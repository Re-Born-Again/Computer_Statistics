{
 "cells": [
  {
   "cell_type": "code",
   "execution_count": null,
   "metadata": {},
   "outputs": [],
   "source": [
    "import pandas as pd\n",
    "from matplotlib import pyplot as plt"
   ]
  },
  {
   "cell_type": "code",
   "execution_count": null,
   "metadata": {},
   "outputs": [],
   "source": [
    "# single-line plot for mpg\n",
    "\n",
    "plt.rcParams[\"figure.figsize\"] = [10,5]\n",
    "plt.rcParams[\"figure.autolayout\"] = True\n",
    "columns = ['mpg']\n",
    "df = pd.read_csv(\"mtcars.csv\", usecols=columns)\n",
    "df.plot()\n",
    "plt.show()"
   ]
  },
  {
   "cell_type": "code",
   "execution_count": null,
   "metadata": {},
   "outputs": [],
   "source": [
    "# multi-line plot for disp and hp\n",
    "\n",
    "plt.rcParams[\"figure.figsize\"] = [10,5]\n",
    "plt.rcParams[\"figure.autolayout\"] = True\n",
    "columns = ['disp','hp']\n",
    "df = pd.read_csv(\"mtcars.csv\", usecols=columns)\n",
    "df.plot()\n",
    "plt.show()"
   ]
  },
  {
   "cell_type": "code",
   "execution_count": null,
   "metadata": {},
   "outputs": [],
   "source": [
    "# multi-line plot for  cyl,drat,wt,qsec,vs,am,gear,carb\n",
    "\n",
    "plt.rcParams[\"figure.figsize\"] = [10, 5]\n",
    "plt.rcParams[\"figure.autolayout\"] = True\n",
    "columns = ['cyl','drat','wt','qsec','vs','am','gear','carb']\n",
    "df = pd.read_csv(\"mtcars.csv\", usecols=columns)\n",
    "df.plot()\n",
    "plt.show()"
   ]
  }
 ],
 "metadata": {
  "language_info": {
   "name": "python"
  }
 },
 "nbformat": 4,
 "nbformat_minor": 2
}
