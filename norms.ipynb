{
 "cells": [
  {
   "cell_type": "code",
   "execution_count": 1,
   "metadata": {},
   "outputs": [],
   "source": [
    "import numpy as np"
   ]
  },
  {
   "cell_type": "code",
   "execution_count": null,
   "metadata": {},
   "outputs": [],
   "source": [
    "# L1 Norm calculation\n",
    "def l1(x):\n",
    "  sum=0\n",
    "  for i in x:\n",
    "    sum+=abs(i)\n",
    "  print(\"l1 norm : \",sum)\n",
    "  \n",
    "x=[int(i) for i in input(\"enter elements : \").split() ]\n",
    "l1(x)"
   ]
  },
  {
   "cell_type": "code",
   "execution_count": null,
   "metadata": {},
   "outputs": [],
   "source": [
    "# L2 Norm calculation\n",
    "def l2(x):\n",
    "  sum=0\n",
    "  for i in x:\n",
    "    sum+=(abs(i))**2\n",
    "  print(\"l2 norm : \",sum**0.5)\n",
    "  \n",
    "x=[int(i) for i in input(\"enter elements : \").split()]\n",
    "l2(x)"
   ]
  },
  {
   "cell_type": "code",
   "execution_count": null,
   "metadata": {},
   "outputs": [],
   "source": [
    "# Max Norm calculation\n",
    "def maxnorms(x):\n",
    "  print(\"max value = \",max(x))\n",
    "\n",
    "x=[int(i) for i in input(\"enter array x : \").split()]\n",
    "maxnorms(x)"
   ]
  },
  {
   "cell_type": "code",
   "execution_count": 1,
   "metadata": {},
   "outputs": [
    {
     "name": "stdout",
     "output_type": "stream",
     "text": [
      "[1, 2, 3]\n",
      "[4, 5, 6]\n",
      "Sum Absolute Difference :  9\n",
      "Mean Absolute Difference :  3.0\n"
     ]
    }
   ],
   "source": [
    "# Mean Absolute Difference calculation\n",
    "x=[int(item)\n",
    "for item in input(\"Enter the list items : \").split()]\n",
    "print(x)\n",
    "y=[int(item)\n",
    "for item in input(\"Enter the list items : \").split()]\n",
    "print(y)\n",
    "\n",
    "if len(x)==len(y):\n",
    "  sum=0\n",
    "  for i in range(0,len(x)):\n",
    "    s=abs(x[i]-y[i])\n",
    "    sum=s+sum;\n",
    "  print(\"Sum Absolute Difference : \",sum)\n",
    "  print(\"Mean Absolute Difference : \",sum/len(x))\n",
    "else:\n",
    "  print(\"Error! Their length should be same\")"
   ]
  },
  {
   "cell_type": "code",
   "execution_count": 2,
   "metadata": {},
   "outputs": [
    {
     "name": "stdout",
     "output_type": "stream",
     "text": [
      "[20.0, 21.0, 23.0]\n",
      "[20.5, 22.0, 22.0]\n",
      "Sum of Squared Difference :  1.5\n",
      "Mean Squared Error :  0.75\n"
     ]
    }
   ],
   "source": [
    "# Mean Squared Error & Sum of Squared Difference\n",
    "x=[float(item)\n",
    "for item in input(\"Enter the list items : \").split()]\n",
    "print(x)\n",
    "y=[float(item)\n",
    "for item in input(\"Enter the list items : \").split()]\n",
    "print(y)\n",
    "\n",
    "if len(x)==len(y):\n",
    "  sum=0\n",
    "  for i in range(0,len(x)):\n",
    "    s=(abs(x[i]-y[i])**2)\n",
    "    sum=s+sum;\n",
    "  print(\"Sum of Squared Difference : \",sum**0.5)\n",
    "  print(\"Mean Squared Error : \",sum/len(x))\n",
    "else:\n",
    "  print(\"Error! Their length should be same\")"
   ]
  }
 ],
 "metadata": {
  "kernelspec": {
   "display_name": "Python 3",
   "language": "python",
   "name": "python3"
  },
  "language_info": {
   "codemirror_mode": {
    "name": "ipython",
    "version": 3
   },
   "file_extension": ".py",
   "mimetype": "text/x-python",
   "name": "python",
   "nbconvert_exporter": "python",
   "pygments_lexer": "ipython3",
   "version": "3.9.6"
  }
 },
 "nbformat": 4,
 "nbformat_minor": 2
}
