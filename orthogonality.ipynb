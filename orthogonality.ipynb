{
 "cells": [
  {
   "cell_type": "code",
   "execution_count": 3,
   "metadata": {},
   "outputs": [],
   "source": [
    "import numpy as np"
   ]
  },
  {
   "cell_type": "code",
   "execution_count": 4,
   "metadata": {},
   "outputs": [
    {
     "name": "stdout",
     "output_type": "stream",
     "text": [
      "not orthogonal\n"
     ]
    }
   ],
   "source": [
    "def orthogonal(x,y):\n",
    "  z=np.transpose(x)\n",
    "  s=np.dot(x,y)\n",
    "  if(s==0):\n",
    "    print(\"orthogonal\")\n",
    "  else:\n",
    "    print(\"not orthogonal\")\n",
    "    \n",
    "x=[int(i) for i in input(\"enter u elements : \").split()]\n",
    "y=[int(i) for i in input(\"enter v elements : \").split()]\n",
    "orthogonal(x,y)"
   ]
  },
  {
   "cell_type": "code",
   "execution_count": 1,
   "metadata": {},
   "outputs": [
    {
     "name": "stdout",
     "output_type": "stream",
     "text": [
      "Given vectors are othogonal\n"
     ]
    }
   ],
   "source": [
    "import numpy as np\n",
    "u = np.array([[-1],[-2],[0]])\n",
    "ut=u.transpose()\n",
    "v=np.array([[2],[-1],[3]])\n",
    "result=[[0],[0],[0]]\n",
    "result1=[[0],[0],[0]]\n",
    "if len(u)==len(v):\n",
    " for i in range(len(ut)):\n",
    "   for j in range(len(v[0])):\n",
    "     for k in range(len(v)):\n",
    "       result[i][j]+=ut[i][k]*v[k][j]\n",
    " if result==result1 :\n",
    "   print(\"Given vectors are othogonal\")\n",
    " else:\n",
    "  print(\"They are not orthogonal\")\n",
    "else:\n",
    "  print(\"Error! The length should be same\")"
   ]
  },
  {
   "cell_type": "code",
   "execution_count": null,
   "metadata": {},
   "outputs": [
    {
     "name": "stdout",
     "output_type": "stream",
     "text": [
      "l1 norm :  0\n"
     ]
    }
   ],
   "source": [
    "def l1(x):\n",
    "  sum=0\n",
    "  for i in x:\n",
    "    sum+=abs(i)\n",
    "  print(\"l1 norm : \",sum)\n",
    "\n",
    "def l2(x):\n",
    "  sum=0\n",
    "  for i in x:\n",
    "    sum+=(abs(i))**2\n",
    "  print(\"l2 norm : \",sum**0.5)\n",
    "\n",
    "def orthogonal(x,y):\n",
    "  z=np.transpose(x)\n",
    "  s=np.dot(x,y)\n",
    "  if(s==0):\n",
    "    print(\"orthogonal\")\n",
    "  else:\n",
    "    print(\"not orthogonal\")\n",
    "\n",
    "def maxnorms(x):\n",
    "  print(\"max value = \",max(x))\n",
    "\n",
    "import numpy as np\n",
    "ch=int(input(\"enter operation\\n1.L1 norm\\n2.L2 norm\\n3.Orthogonal\\n4.Max\\n\"))\n",
    "if(ch==1):\n",
    "  x=[int(i) for i in input(\"enter elements : \").split() ]\n",
    "  l1(x)\n",
    "elif(ch==2):\n",
    "  x=[int(i) for i in input(\"enter elements : \").split()]\n",
    "  l2(x)\n",
    "elif(ch==3):\n",
    "  x=[int(i) for i in input(\"enter u elements : \").split()]\n",
    "  y=[int(i) for i in input(\"enter v elements : \").split()]\n",
    "  orthogonal(x,y)\n",
    "elif(ch==4):\n",
    "  x=[int(i) for i in input(\"enter array x : \").split()]\n",
    "  maxnorms(x)\n",
    "else:\n",
    "  print(\"error!\")"
   ]
  }
 ],
 "metadata": {
  "kernelspec": {
   "display_name": "Python 3",
   "language": "python",
   "name": "python3"
  },
  "language_info": {
   "codemirror_mode": {
    "name": "ipython",
    "version": 3
   },
   "file_extension": ".py",
   "mimetype": "text/x-python",
   "name": "python",
   "nbconvert_exporter": "python",
   "pygments_lexer": "ipython3",
   "version": "3.9.6"
  }
 },
 "nbformat": 4,
 "nbformat_minor": 2
}
