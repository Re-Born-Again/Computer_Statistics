{
 "cells": [
  {
   "cell_type": "code",
   "execution_count": 1,
   "metadata": {},
   "outputs": [
    {
     "name": "stdout",
     "output_type": "stream",
     "text": [
      "[1, 2, 3]\n",
      "[['1', '2', '3']]\n"
     ]
    }
   ],
   "source": [
    "import csv\n",
    "\n",
    "a=[int(i) for i in input(\"Enter array values : \").split()]\n",
    "print(a)\n",
    "\n",
    "with open('student.csv','w',newline='') as student:\n",
    "  swrite=csv.writer(student)\n",
    "  swrite.writerow(a)\n",
    "import numpy as np\n",
    "f=open('student.csv',mode='r',newline='')\n",
    "sread=csv.reader(f)\n",
    "s=list()\n",
    "for i in sread:\n",
    "  s.append(i)\n",
    "print(s)"
   ]
  },
  {
   "cell_type": "code",
   "execution_count": 2,
   "metadata": {},
   "outputs": [
    {
     "name": "stdout",
     "output_type": "stream",
     "text": [
      "['1', '2', '3']\n"
     ]
    }
   ],
   "source": [
    "import csv\n",
    "with open('student.csv','r') as file:\n",
    " re=csv.reader(file)\n",
    " for i in re:\n",
    "  print(i)"
   ]
  },
  {
   "cell_type": "code",
   "execution_count": 3,
   "metadata": {},
   "outputs": [
    {
     "name": "stdout",
     "output_type": "stream",
     "text": [
      "['a', 'b', 'c']\n"
     ]
    }
   ],
   "source": [
    "import csv\n",
    "a=['a','b','c']\n",
    "f=open('student.csv','w')\n",
    "w=csv.writer(f)\n",
    "w.writerow(a)\n",
    "f.close()\n",
    "fp=open('student.csv')\n",
    "r=csv.reader(fp)\n",
    "for i in r:\n",
    "  print(i)"
   ]
  }
 ],
 "metadata": {
  "kernelspec": {
   "display_name": "Python 3",
   "language": "python",
   "name": "python3"
  },
  "language_info": {
   "codemirror_mode": {
    "name": "ipython",
    "version": 3
   },
   "file_extension": ".py",
   "mimetype": "text/x-python",
   "name": "python",
   "nbconvert_exporter": "python",
   "pygments_lexer": "ipython3",
   "version": "3.9.6"
  }
 },
 "nbformat": 4,
 "nbformat_minor": 2
}
