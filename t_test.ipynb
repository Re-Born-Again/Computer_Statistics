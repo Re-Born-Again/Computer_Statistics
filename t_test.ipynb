{
 "cells": [
  {
   "cell_type": "code",
   "execution_count": 5,
   "metadata": {},
   "outputs": [],
   "source": [
    "import scipy.stats as ss\n",
    "import pandas as pd"
   ]
  },
  {
   "cell_type": "code",
   "execution_count": 4,
   "metadata": {},
   "outputs": [
    {
     "name": "stdout",
     "output_type": "stream",
     "text": [
      "two sampled t-test-\n",
      "['cyl', 'disp', 'hp', 'drat', 'wt', 'qsec', 'vs', 'am', 'gear', 'carb']\n",
      "cyl\n",
      "\thi is acceped (populaion means are different)\n",
      "disp\n",
      "\thi is acceped (populaion means are different)\n",
      "hp\n",
      "\thi is acceped (populaion means are different)\n",
      "drat\n",
      "\thi is acceped (populaion means are different)\n",
      "wt\n",
      "\thi is acceped (populaion means are different)\n",
      "qsec\n",
      "\thi is acceped (populaion means are different)\n",
      "vs\n",
      "\thi is acceped (populaion means are different)\n",
      "am\n",
      "\thi is acceped (populaion means are different)\n",
      "gear\n",
      "\thi is acceped (populaion means are different)\n",
      "carb\n",
      "\thi is acceped (populaion means are different)\n"
     ]
    }
   ],
   "source": [
    "#t_test\n",
    "\n",
    "alpha=0.05\n",
    "print('two sampled t-test-')\n",
    "df=pd.read_csv('mtcars.csv')\n",
    "b1=[]\n",
    "b1=list(df.columns)\n",
    "b=b1[2:]\n",
    "print(b)\n",
    "for i in b:\n",
    "   t=ss.ttest_ind(df['mpg'],df[i]) # return 4 values as tuple\n",
    "   p=t[1]\n",
    "   print(i)\n",
    "   if p <=alpha:\n",
    "    print('\\thi is acceped (populaion means are different)')\n",
    "   else:\n",
    "    print('\\th0 is accepted (population means are the same)')"
   ]
  }
 ],
 "metadata": {
  "kernelspec": {
   "display_name": "Python 3",
   "language": "python",
   "name": "python3"
  },
  "language_info": {
   "codemirror_mode": {
    "name": "ipython",
    "version": 3
   },
   "file_extension": ".py",
   "mimetype": "text/x-python",
   "name": "python",
   "nbconvert_exporter": "python",
   "pygments_lexer": "ipython3",
   "version": "3.9.6"
  }
 },
 "nbformat": 4,
 "nbformat_minor": 2
}
