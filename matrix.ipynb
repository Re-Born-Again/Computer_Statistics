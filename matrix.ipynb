{
 "cells": [
  {
   "cell_type": "code",
   "execution_count": 1,
   "metadata": {},
   "outputs": [
    {
     "name": "stdout",
     "output_type": "stream",
     "text": [
      "Matrix 1 : \n",
      " [[1 2 3]\n",
      " [4 5 5]\n",
      " [7 7 2]]\n",
      "Matrix 2 : \n",
      " [[4 5 6]\n",
      " [1 2 3]\n",
      " [7 8 9]]\n",
      "Transpose : \n",
      "[[1 4 7]\n",
      " [2 5 7]\n",
      " [3 5 2]]\n",
      "Addition : \n",
      "[[ 5  7  9]\n",
      " [ 5  7  8]\n",
      " [14 15 11]]\n",
      "Subtraction : \n",
      "[[-3 -3 -3]\n",
      " [ 3  3  2]\n",
      " [ 0 -1 -7]]\n",
      "Multiplication : \n",
      "[[27 33 39]\n",
      " [56 70 84]\n",
      " [49 65 81]]\n",
      "Inverse of mat1\n",
      "[[-3.125  2.125 -0.625]\n",
      " [ 3.375 -2.375  0.875]\n",
      " [-0.875  0.875 -0.375]]\n"
     ]
    }
   ],
   "source": [
    "import numpy as np\n",
    "mat1=np.array([[1,2,3],\n",
    "     [4,5,5],\n",
    "     [7,7,2]])\n",
    "mat2=np.array([[4,5,6],\n",
    "     [1,2,3],\n",
    "     [7,8,9]])\n",
    "print(\"Matrix 1 : \\n\",mat1)\n",
    "print(\"Matrix 2 : \\n\",mat2)\n",
    "\n",
    "print(\"Transpose : \")\n",
    "print(mat1.transpose())\n",
    "print(\"Addition : \")\n",
    "print(np.add(mat1,mat2))\n",
    "print(\"Subtraction : \")\n",
    "print(np.subtract(mat1,mat2))\n",
    "print(\"Multiplication : \")\n",
    "print(np.dot(mat1,mat2))\n",
    "print(\"Inverse of mat1\")\n",
    "print(np.linalg.inv(mat1))\n"
   ]
  }
 ],
 "metadata": {
  "kernelspec": {
   "display_name": "Python 3",
   "language": "python",
   "name": "python3"
  },
  "language_info": {
   "codemirror_mode": {
    "name": "ipython",
    "version": 3
   },
   "file_extension": ".py",
   "mimetype": "text/x-python",
   "name": "python",
   "nbconvert_exporter": "python",
   "pygments_lexer": "ipython3",
   "version": "3.9.6"
  }
 },
 "nbformat": 4,
 "nbformat_minor": 2
}
