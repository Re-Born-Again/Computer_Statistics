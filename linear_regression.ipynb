{
 "cells": [
  {
   "cell_type": "code",
   "execution_count": 1,
   "metadata": {},
   "outputs": [
    {
     "name": "stdout",
     "output_type": "stream",
     "text": [
      "[[  5  54]\n",
      " [ 54 718]]\n",
      "The Inverse matrix is:\n",
      "[[ 1.065 -0.08 ]\n",
      " [-0.08   0.007]]\n",
      "X(transpose)*Y is: \n",
      "[[ 150]\n",
      " [1970]]\n",
      "Beta Matrix is:\n",
      "[[2.15]\n",
      " [1.79]]\n",
      "The predicted Y is:\n",
      "[[ 1.79  8.95]\n",
      " [ 1.79 12.53]\n",
      " [ 1.79 17.9 ]\n",
      " [ 1.79 21.48]\n",
      " [ 1.79 35.8 ]]\n",
      "The error is: \n",
      "[31.55636386 12.23064839]\n"
     ]
    }
   ],
   "source": [
    "import numpy as np\n",
    "'''print(\"Enter the elements row wise for matrix X:\")\n",
    "r = int(input(\"Enter the number of rows:\"))\n",
    "c = int(input(\"Enter the number of columns:\"))\n",
    "for i in range(r):\n",
    "    a = []\n",
    "    for j in range(c):\n",
    "        a.append(int(input()))\n",
    "    X.append(a)'''\n",
    "#declared X matrix\n",
    "X = [[1,5],[1,7],[1,10],[1,12],[1,20]]\n",
    "\n",
    "#declared Y Matrix\n",
    "Y = [[10],[20],[30],[40],[50]]\n",
    "\n",
    "'''print(\"Enter the elements row wise for matrix Y:\")\n",
    "r = int(input(\"Enter the number of rows:\"))\n",
    "c = int(input(\"Enter the number of columns:\"))\n",
    "for i in range(r):\n",
    "    a = []\n",
    "    for j in range(c):\n",
    "        a.append(int(input()))\n",
    "    Y.append(a)'''\n",
    "#assigning the Transpose of X to T\n",
    "T = np.transpose(X)\n",
    "\n",
    "#calculatig X(transpose)*X\n",
    "XTX = np.matmul(T,X)\n",
    "print(XTX)\n",
    "\n",
    "#calculating Inverse of XTX\n",
    "INV = np.linalg.inv(XTX)\n",
    "INV = np.round_(INV, decimals = 3, out = None)\n",
    "print(\"The Inverse matrix is:\")\n",
    "print(INV)\n",
    "\n",
    "#assigned X(Transpose)*Y to ABC\n",
    "ABC = np.matmul(T,Y)\n",
    "print(\"X(transpose)*Y is: \")\n",
    "print(ABC)\n",
    "\n",
    "#finding Beta\n",
    "beta = np.dot(INV,ABC)\n",
    "print(\"Beta Matrix is:\")\n",
    "print(beta)\n",
    "\n",
    "#Yc is the matrix containing predicted Y values\n",
    "Yc = np.dot(X,beta[1][0])\n",
    "print(\"The predicted Y is:\")\n",
    "print(Yc)\n",
    "\n",
    "#Calculating the Error\n",
    "E = (sum((Y-Yc)**2)/5)**0.5\n",
    "print(\"The error is: \")\n",
    "print(E)"
   ]
  }
 ],
 "metadata": {
  "kernelspec": {
   "display_name": "Python 3",
   "language": "python",
   "name": "python3"
  },
  "language_info": {
   "codemirror_mode": {
    "name": "ipython",
    "version": 3
   },
   "file_extension": ".py",
   "mimetype": "text/x-python",
   "name": "python",
   "nbconvert_exporter": "python",
   "pygments_lexer": "ipython3",
   "version": "3.9.6"
  }
 },
 "nbformat": 4,
 "nbformat_minor": 2
}
