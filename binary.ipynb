{
 "cells": [
  {
   "cell_type": "code",
   "execution_count": 1,
   "metadata": {},
   "outputs": [
    {
     "name": "stdout",
     "output_type": "stream",
     "text": [
      "Data inside file :  [[1, 2, 3], [2, 3, 4], [4, 5, 6]]\n",
      "After writing num.bin to t.bin, the contents are : \n",
      "[[1, 2, 3], [2, 3, 4], [4, 5, 6]]\n"
     ]
    }
   ],
   "source": [
    "#binary files\n",
    "import pickle\n",
    "num=[[1,2,3],[2,3,4],[4,5,6]]\n",
    "f=open('num.bin','wb')\n",
    "pickle.dump(num,f) #writing num data into file\n",
    "f.close()\n",
    "fp=open('num.bin','rb')\n",
    "temp=pickle.load(fp) #reading data num from file\n",
    "print(\"Data inside file : \",temp)\n",
    "fp.close()\n",
    "f1=open('num.bin','rb')\n",
    "f2=open('t.bin','wb')\n",
    "bstring=f1.readlines()#reads all the data lines from the file\n",
    "f2.writelines(bstring)#write all the data lines into file\n",
    "f1.close()\n",
    "f2.close()\n",
    "with open('t.bin','rb') as t: #can be used onle within its block while f=open() can be used across program\n",
    "  k=pickle.load(t)\n",
    "print(\"After writing num.bin to t.bin, the contents are : \")\n",
    "print(k)"
   ]
  },
  {
   "cell_type": "code",
   "execution_count": 1,
   "metadata": {},
   "outputs": [
    {
     "name": "stdout",
     "output_type": "stream",
     "text": [
      "[7, 8, 9]\n"
     ]
    }
   ],
   "source": [
    "import pickle as p\n",
    "a=[7,8,9]\n",
    "f=open('test.bin','wb')\n",
    "p.dump(a,f)\n",
    "f.close()\n",
    "fp=open('test.bin','rb')\n",
    "r=p.load(fp)\n",
    "print(r)\n",
    "fp.close()"
   ]
  },
  {
   "cell_type": "code",
   "execution_count": 2,
   "metadata": {},
   "outputs": [
    {
     "name": "stdout",
     "output_type": "stream",
     "text": [
      "[5, 6, 7]\n"
     ]
    }
   ],
   "source": [
    "import pickle as p\n",
    "x=[5,6,7]\n",
    "f=open('test2.csv','wb')\n",
    "p.dump(x,f)\n",
    "f.close()\n",
    "fp=open('test2.csv','rb')\n",
    "r=p.load(fp)\n",
    "print(r)\n",
    "fp.close()"
   ]
  }
 ],
 "metadata": {
  "kernelspec": {
   "display_name": "Python 3",
   "language": "python",
   "name": "python3"
  },
  "language_info": {
   "codemirror_mode": {
    "name": "ipython",
    "version": 3
   },
   "file_extension": ".py",
   "mimetype": "text/x-python",
   "name": "python",
   "nbconvert_exporter": "python",
   "pygments_lexer": "ipython3",
   "version": "3.9.6"
  }
 },
 "nbformat": 4,
 "nbformat_minor": 2
}
