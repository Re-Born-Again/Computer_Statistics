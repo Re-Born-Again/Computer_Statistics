{
 "cells": [
  {
   "cell_type": "code",
   "execution_count": 1,
   "metadata": {},
   "outputs": [],
   "source": [
    "import numpy as np"
   ]
  },
  {
   "cell_type": "code",
   "execution_count": 2,
   "metadata": {},
   "outputs": [
    {
     "name": "stdout",
     "output_type": "stream",
     "text": [
      "s pooled : \n",
      " [[0.252 0.06 ]\n",
      " [0.06  0.056]]\n",
      "\n",
      "s pooled inverse : \n",
      " [[ 5.372 -5.804]\n",
      " [-5.804 24.128]]\n",
      "\n",
      "Mid-point : \n",
      " [[-29.861]]\n",
      "\n",
      "Since y0 is lesser than mid-point allocating x0 to pi 2\n"
     ]
    }
   ],
   "source": [
    "np.set_printoptions(3)\n",
    "\n",
    "x1_mean=np.array([[4.26],[1.33]])\n",
    "x2_mean=np.array([[5.55],[2.03]])\n",
    "x0=np.array([5,1.9])\n",
    "s1=np.array([[0.291,0.049],[0.049,0.075]])\n",
    "s2=np.array([[0.212,0.072],[0.072,0.037]])\n",
    "n1=n2=50\n",
    "\n",
    "s_pooled_s1=((n1-1)/(n1+n2-2))*s1\n",
    "s_pooled_s2=((n2-1)/(n1+n2-2))*s2\n",
    "s_pooled=np.add(s_pooled_s1,s_pooled_s2)\n",
    "print(\"s pooled : \\n\",s_pooled)\n",
    "s_pooled_inv=np.linalg.inv(s_pooled)\n",
    "print(\"\\ns pooled inverse : \\n\",s_pooled_inv)\n",
    "\n",
    "a_cap_transp=np.dot(np.transpose(x1_mean-x2_mean),s_pooled_inv)\n",
    "y0_cap=np.dot(a_cap_transp,x0)\n",
    "y1_cap=np.dot(a_cap_transp,x1_mean)\n",
    "y2_cap=np.dot(a_cap_transp,x2_mean)\n",
    "m_cap=0.5*(y1_cap+y2_cap)\n",
    "\n",
    "print(\"\\nMid-point : \\n\",m_cap)\n",
    "if y0_cap>m_cap:\n",
    "  print(\"\\nSince y0 is greater than mid-point allocating x0 to pi 1\")\n",
    "else :\n",
    "  print(\"\\nSince y0 is lesser than mid-point allocating x0 to pi 2\")"
   ]
  }
 ],
 "metadata": {
  "kernelspec": {
   "display_name": "Python 3",
   "language": "python",
   "name": "python3"
  },
  "language_info": {
   "codemirror_mode": {
    "name": "ipython",
    "version": 3
   },
   "file_extension": ".py",
   "mimetype": "text/x-python",
   "name": "python",
   "nbconvert_exporter": "python",
   "pygments_lexer": "ipython3",
   "version": "3.9.6"
  }
 },
 "nbformat": 4,
 "nbformat_minor": 2
}
