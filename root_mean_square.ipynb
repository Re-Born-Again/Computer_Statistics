{
 "cells": [
  {
   "cell_type": "code",
   "execution_count": 1,
   "metadata": {},
   "outputs": [
    {
     "name": "stdout",
     "output_type": "stream",
     "text": [
      "Y :  [[21]\n",
      " [17]\n",
      " [10]\n",
      " [33]]\n",
      "X :  [[  1   2 110]\n",
      " [  1   4 123]\n",
      " [  1   6 205]\n",
      " [  1   2  65]]\n",
      "Beta :  [[39.99941793]\n",
      " [ 0.61030268]\n",
      " [-0.17403958]]\n",
      "Error :  [[-1.07566938]\n",
      " [-4.03376019]\n",
      " [ 2.01688009]\n",
      " [ 3.09254948]]\n",
      "Root Mean Square :  [2.78657287]\n"
     ]
    }
   ],
   "source": [
    "import numpy as np\n",
    "\n",
    "y=np.array([[21],[17],[10],[33]])\n",
    "print(\"Y : \",y)\n",
    "x=np.array([[1,2,110],[1,4,123],[1,6,205],[1,2,65]])\n",
    "print(\"X : \",x)\n",
    "\n",
    "xt=x.transpose()\n",
    "xtx=np.dot(xt,x)\n",
    "xtxi=np.linalg.inv(xtx)\n",
    "xty=np.dot(xt,y)\n",
    "b=np.dot(xtxi,xty)\n",
    "print(\"Beta : \",b)\n",
    "y1=np.dot(x,b)\n",
    "e=np.subtract(y,y1)\n",
    "print(\"Error : \",e)\n",
    "\n",
    "print(\"Root Mean Square : \",(sum((e**2))/4)**0.5)"
   ]
  }
 ],
 "metadata": {
  "kernelspec": {
   "display_name": "Python 3",
   "language": "python",
   "name": "python3"
  },
  "language_info": {
   "codemirror_mode": {
    "name": "ipython",
    "version": 3
   },
   "file_extension": ".py",
   "mimetype": "text/x-python",
   "name": "python",
   "nbconvert_exporter": "python",
   "pygments_lexer": "ipython3",
   "version": "3.9.6"
  }
 },
 "nbformat": 4,
 "nbformat_minor": 2
}
