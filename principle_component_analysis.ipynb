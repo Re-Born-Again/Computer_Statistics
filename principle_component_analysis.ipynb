{
 "cells": [
  {
   "cell_type": "code",
   "execution_count": 5,
   "metadata": {},
   "outputs": [],
   "source": [
    "import numpy as np\n",
    "import pandas as pd\n",
    "from statistics import mean\n",
    "from numpy.linalg import eig\n",
    "import matplotlib.pyplot as plt\n",
    "from sklearn.preprocessing import StandardScaler"
   ]
  },
  {
   "cell_type": "code",
   "execution_count": 3,
   "metadata": {},
   "outputs": [
    {
     "name": "stdout",
     "output_type": "stream",
     "text": [
      "[[1.81 1.91]]\n",
      "\n",
      "Matrix X : \n",
      " [[ 0.69  0.49]\n",
      " [-1.31 -1.21]\n",
      " [ 0.39  0.99]\n",
      " [ 0.09  0.29]\n",
      " [ 1.29  1.09]\n",
      " [ 0.49  0.79]\n",
      " [ 0.19 -0.31]\n",
      " [-0.81 -0.81]\n",
      " [-0.31 -0.31]\n",
      " [-0.71 -1.01]]\n",
      "\n",
      "Covariance Matrix : \n",
      " [[0.617 0.615]\n",
      " [0.615 0.717]]\n",
      "\n",
      "Eigen values : \n",
      " [0.049 1.284] \n",
      "Eigen vectors : \n",
      " [[-0.735 -0.678]\n",
      " [ 0.678 -0.735]]\n",
      "New Data Set : \n",
      " [[-0.175 -0.828]\n",
      " [ 0.143  1.778]\n",
      " [ 0.384 -0.992]\n",
      " [ 0.13  -0.274]\n",
      " [-0.209 -1.676]\n",
      " [ 0.175 -0.913]\n",
      " [-0.35   0.099]\n",
      " [ 0.046  1.145]\n",
      " [ 0.018  0.438]\n",
      " [-0.163  1.224]]\n"
     ]
    }
   ],
   "source": [
    "x1=np.array([[2.5],[0.5],[2.2],[1.9],[3.1],[2.3],[2],[1],[1.5],[1.1]])\n",
    "x2=np.array([[2.4],[0.7],[2.9],[2.2],[3],[2.7],[1.6],[1.1],[1.6],[0.9]])\n",
    "\n",
    "x1_mean=np.mean(x1)\n",
    "x2_mean=np.mean(x2)\n",
    "x_mean=np.array([[x1_mean,x2_mean]])\n",
    "print(x_mean)\n",
    "X1=x1-x1_mean\n",
    "X2=x2-x2_mean\n",
    "\n",
    "x=np.concatenate((X1,X2),axis=1)\n",
    "print(\"\\nMatrix X : \\n\",x)\n",
    "c1=np.dot(np.transpose(x),x)\n",
    "c=c1/(len(x1)-1)\n",
    "print(\"\\nCovariance Matrix : \\n\",c)\n",
    "\n",
    "e_val,e_vec=np.linalg.eig(c)\n",
    "\n",
    "print(\"\\nEigen values : \\n\",e_val,\"\\nEigen vectors : \\n\",e_vec)\n",
    "\n",
    "nd=np.dot(x,e_vec)\n",
    "\n",
    "print(\"New Data Set : \\n\",nd)"
   ]
  },
  {
   "cell_type": "code",
   "execution_count": 2,
   "metadata": {},
   "outputs": [
    {
     "name": "stdout",
     "output_type": "stream",
     "text": [
      "The Eigen Values are:\n",
      " [0.049 1.284]\n",
      "The Eigen Vectors are:\n",
      " [[-0.735 -0.678]\n",
      " [ 0.678 -0.735]]\n",
      "The components PC1 & PC2 are:\n",
      " [[-0.175 -0.828]\n",
      " [ 0.143  1.778]\n",
      " [ 0.384 -0.992]\n",
      " [ 0.13  -0.274]\n",
      " [-0.209 -1.676]\n",
      " [ 0.175 -0.913]\n",
      " [-0.35   0.099]\n",
      " [ 0.046  1.145]\n",
      " [ 0.018  0.438]\n",
      " [-0.163  1.224]]\n"
     ]
    }
   ],
   "source": [
    "#PCA for a given Data Matrix\n",
    "np.set_printoptions(suppress=True, precision = 3)\n",
    "\n",
    "x1 = [2.5,0.5,2.2,1.9,3.1,2.3,2,1,1.5,1.1]\n",
    "x2 = [2.4,0.7,2.9,2.2,3,2.7,1.6,1.1,1.6,0.9]\n",
    "\n",
    "m1 = mean(x1)\n",
    "m2 = mean(x2)\n",
    "m2 = round(m2,2)\n",
    "\n",
    "for i in range(len(x1)):\n",
    "  x1[i] = x1[i] - m1\n",
    "for i in range(len(x2)):\n",
    "  x2[i] = x2[i] - m2\n",
    "\n",
    "x1 = np.array(x1)\n",
    "x2 = np.array(x2)\n",
    "x = [x1,x2]\n",
    "\n",
    "a = np.matmul(x,np.transpose(x))\n",
    "N = len(np.transpose(x))\n",
    "a = a/(N-1)\n",
    "#print(a)\n",
    "\n",
    "eigval,eigvec = eig(a)\n",
    "print('The Eigen Values are:\\n',eigval)\n",
    "print('The Eigen Vectors are:\\n',eigvec)\n",
    "\n",
    "y = np.matmul(np.transpose(x),eigvec)\n",
    "print('The components PC1 & PC2 are:\\n',y)"
   ]
  },
  {
   "cell_type": "code",
   "execution_count": 6,
   "metadata": {},
   "outputs": [
    {
     "name": "stdout",
     "output_type": "stream",
     "text": [
      "Covariance:  [[150.    -63.077 -53.482]\n",
      " [-63.077 150.    144.414]\n",
      " [-53.482 144.414 150.   ]]\n",
      "Eigen value:  [331.807 112.987   5.207]\n",
      "Eigen Vector :  [[ 0.413 -0.909 -0.056]\n",
      " [-0.65  -0.251 -0.717]\n",
      " [-0.638 -0.333  0.695]]\n",
      "Principal Components are\n",
      "\n",
      "          PC1       PC2       PC3\n",
      "0    2.135655 -0.164249 -0.007789\n",
      "1    1.657644  0.887424  0.056820\n",
      "2    1.885811  0.481049  0.071759\n",
      "3    1.716285  0.662795  0.003116\n",
      "4    2.231257 -0.374583 -0.020711\n",
      "..        ...       ...       ...\n",
      "145 -1.507925 -0.574025  0.425009\n",
      "146 -1.576580  0.681142  0.205866\n",
      "147 -1.256351 -0.442846  0.151021\n",
      "148 -1.199440 -1.443952  0.291757\n",
      "149 -1.051673 -0.341099  0.009145\n",
      "\n",
      "[150 rows x 3 columns]\n"
     ]
    },
    {
     "data": {
      "image/png": "[encoded data removed]",
      "text/plain": [
       "<Figure size 640x480 with 1 Axes>"
      ]
     },
     "metadata": {},
     "output_type": "display_data"
    }
   ],
   "source": [
    "url = \"https://archive.ics.uci.edu/ml/machine-learning-databases/iris/iris.data\"\n",
    "d = pd.read_csv(url, names=['sepal length', 'sepal width', 'petal length', 'petal width', 'target'])\n",
    "d0= StandardScaler().fit_transform(d.iloc[:,1:4])\n",
    "d_trans= np.transpose(d0)\n",
    "cova =np.dot (d_trans, d0)\n",
    "print(\"Covariance: \", cova)\n",
    "eigen_val, eigen_vector= np.linalg.eig(cova)\n",
    "print(\"Eigen value: \", eigen_val)\n",
    "print(\"Eigen Vector : \", eigen_vector)\n",
    "y= np.dot (d0, eigen_vector)\n",
    "num_pc = min(4, len (eigen_val))\n",
    "pve=[0]*num_pc\n",
    "print(\"Principal Components are\\n\")\n",
    "for i in range(num_pc): # Corrected the range\n",
    " pve[i] = (eigen_val[i] / sum(eigen_val)) * 100\n",
    "df = pd.DataFrame(y, columns=['PC1', 'PC2', 'PC3', 'PC4'][:num_pc])\n",
    "print(df.iloc[:, :num_pc]) # Corrected the column selection\n",
    "x_axis_values = range (1, num_pc + 1) # Numbers as x-axis values\n",
    "plt.xlabel('Principal Components')\n",
    "plt.ylabel('PVE')\n",
    "plt.title('SCREE PLOT')\n",
    "plt.plot(x_axis_values, pve, \"r\") # Corrected the x-axis values\n",
    "plt.show()"
   ]
  }
 ],
 "metadata": {
  "kernelspec": {
   "display_name": "Python 3",
   "language": "python",
   "name": "python3"
  },
  "language_info": {
   "codemirror_mode": {
    "name": "ipython",
    "version": 3
   },
   "file_extension": ".py",
   "mimetype": "text/x-python",
   "name": "python",
   "nbconvert_exporter": "python",
   "pygments_lexer": "ipython3",
   "version": "3.9.6"
  }
 },
 "nbformat": 4,
 "nbformat_minor": 2
}
